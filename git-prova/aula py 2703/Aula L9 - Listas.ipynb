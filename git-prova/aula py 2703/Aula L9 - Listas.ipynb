{
 "cells": [
  {
   "cell_type": "markdown",
   "metadata": {
    "id": "oNAE5ZPfjt3g"
   },
   "source": [
    "#**TTI103 - Lógica de Programação**\n",
    "\n",
    "#**Aula L9 - Listas**"
   ]
  },
  {
   "cell_type": "markdown",
   "metadata": {
    "id": "kahb9Oa-G6OF"
   },
   "source": [
    "#**Introdução**\n",
    "\n",
    "Até o presente momento em nosso curso, trabalhamos com variáveis simples, capazes de armazenar apenas um valor de determnado tipo."
   ]
  },
  {
   "cell_type": "code",
   "execution_count": 1,
   "metadata": {
    "id": "ahmYsSzGoYXT"
   },
   "outputs": [
    {
     "name": "stdout",
     "output_type": "stream",
     "text": [
      "<class 'int'>\n"
     ]
    }
   ],
   "source": [
    "itens = 34\n",
    "print(type(itens))"
   ]
  },
  {
   "cell_type": "code",
   "execution_count": 2,
   "metadata": {
    "id": "YobZcwikollk"
   },
   "outputs": [
    {
     "name": "stdout",
     "output_type": "stream",
     "text": [
      "<class 'bool'>\n"
     ]
    }
   ],
   "source": [
    "item = True\n",
    "print(type(item))"
   ]
  },
  {
   "cell_type": "code",
   "execution_count": 2,
   "metadata": {
    "id": "K1D5CZkro6RL"
   },
   "outputs": [
    {
     "name": "stdout",
     "output_type": "stream",
     "text": [
      "<class 'str'>\n"
     ]
    }
   ],
   "source": [
    "item = \"Fora dorival\"\n",
    "print(type(item))"
   ]
  },
  {
   "cell_type": "markdown",
   "metadata": {
    "id": "xAvp_AHNKrMb"
   },
   "source": [
    "Uma **lista** (`<class 'list'>`) em Python é uma sequência de valores de qualquer tipo ou classe tais como `int`, `float`, `bool`, `str` e até mesmo o próprio `list`, entre outros.\n",
    "\n",
    "A criação de uma lista pode ocorrer de diversas formas. A maneira mais simples é envolver os elementos da lista por colchetes (`[]`).\n",
    "\n",
    "Como exemplo, podemos criar uma lista contendo os anos de obtenção das cinco conquistas do Brasil em Copas do Mundo de Futebol (até o momento) da seguinte maneira:"
   ]
  },
  {
   "cell_type": "code",
   "execution_count": 1,
   "metadata": {
    "id": "njI5JPw1qFe9"
   },
   "outputs": [
    {
     "name": "stdout",
     "output_type": "stream",
     "text": [
      "<class 'list'>\n"
     ]
    }
   ],
   "source": [
    "anos_conquistados = [1958,1962,1970,1994,2002]\n",
    "print(type(anos_conquistados))"
   ]
  },
  {
   "cell_type": "markdown",
   "metadata": {
    "id": "N8LfEuRuqTYT"
   },
   "source": [
    "*IMPORTANTE:* Observe o uso dos colchetes de abertura (`[`) para marcar o início e o de fechamento (`]`) para marcar o final da lista, bem como os elementos separados por vígula.\n",
    "\n",
    "As listas em Python podem conter vários tipos de dados, o que torna possível armazenar coleções heterogêneas de dados."
   ]
  },
  {
   "cell_type": "code",
   "execution_count": 3,
   "metadata": {
    "id": "3a6c9vxfqzHk"
   },
   "outputs": [],
   "source": [
    "filme = ['De volta para o futuro', 1985, 'Robert Zemeckis',\n",
    "['Ficção cientifica', 'aventura']]"
   ]
  },
  {
   "cell_type": "markdown",
   "metadata": {
    "id": "Z4yaQTA-rFp8"
   },
   "source": [
    "Na lista `filme` acima:\n",
    "* o primeiro elemento representa o nome do filme \"De Volta Para o Futuro\" do tipo `str;\n",
    "* o segundo elemento representa o ano de estreia do filme (1985) do tipo `int`;\n",
    "* o terceiro elemento representa o diretor do filme, Robert Zemeckis, do tipo `str`;\n",
    "* o quarto elemento, `['ficção científica', 'aventura']`, é uma lista de gêneros do filme (do tipo `list`)."
   ]
  },
  {
   "cell_type": "markdown",
   "metadata": {
    "id": "OEpCn6S3sLls"
   },
   "source": [
    "#**Índices**\n",
    "\n",
    "As lista são chamadas de estruturas sequenciais indexadas, na medida em que seus elementos podem ser acessados sequencialmente utilizando índices. Por convenção do Python, o primeiro elemento da lista tem índice `0`, o segundo tem índice `1`, e assim por diante.\n",
    "\n",
    "*IMPORTANTE:* Observe que, como consequência da convenção de índices do Python, o último elemento da lista `anos_conquistas`, o ano `2002`, tem índice `4`. No entanto, a lista tem comprimento `5`.\n",
    "\n",
    "O acesso a elementos da lista pode ser feito através da sintaxe: `nome_da_lista[indice]`."
   ]
  },
  {
   "cell_type": "code",
   "execution_count": 4,
   "metadata": {
    "id": "4WLDq2FJs4mM"
   },
   "outputs": [
    {
     "name": "stdout",
     "output_type": "stream",
     "text": [
      "[1958, 1962, 1970, 1994, 2002]\n"
     ]
    },
    {
     "data": {
      "text/plain": [
       "1994"
      ]
     },
     "execution_count": 4,
     "metadata": {},
     "output_type": "execute_result"
    }
   ],
   "source": [
    "print(anos_conquistados)\n",
    "anos_conquistados [3]\n"
   ]
  },
  {
   "cell_type": "code",
   "execution_count": 32,
   "metadata": {
    "id": "c0sdH3q1tABV"
   },
   "outputs": [
    {
     "name": "stdout",
     "output_type": "stream",
     "text": [
      "['De volta para o futuro',\n",
      " 1985,\n",
      " 'Robert Zemeckis',\n",
      " ['Ficção cientifica', 'aventura']]\n"
     ]
    },
    {
     "data": {
      "text/plain": [
       "'De volta para o futuro'"
      ]
     },
     "execution_count": 32,
     "metadata": {},
     "output_type": "execute_result"
    }
   ],
   "source": [
    "#Biblioteca pretyy print\n",
    "from pprint import pprint \n",
    "pprint(filme)\n",
    "filme[0]"
   ]
  },
  {
   "cell_type": "code",
   "execution_count": 35,
   "metadata": {
    "id": "LLhRYy4itDvs"
   },
   "outputs": [
    {
     "data": {
      "text/plain": [
       "'Ficção cientifica'"
      ]
     },
     "execution_count": 35,
     "metadata": {},
     "output_type": "execute_result"
    }
   ],
   "source": [
    "filme[3][0]"
   ]
  },
  {
   "cell_type": "code",
   "execution_count": null,
   "metadata": {
    "id": "JvWBRu4ttHwc"
   },
   "outputs": [],
   "source": []
  },
  {
   "cell_type": "markdown",
   "metadata": {
    "id": "hOGQXmvmtOzA"
   },
   "source": [
    "Índices negativos indicam elementos em ordem inversa, sendo o último elemento indicado pelo índice `-1`.\n",
    "\n"
   ]
  },
  {
   "cell_type": "code",
   "execution_count": 36,
   "metadata": {
    "id": "QLat80KOtVtM"
   },
   "outputs": [
    {
     "data": {
      "text/plain": [
       "2002"
      ]
     },
     "execution_count": 36,
     "metadata": {},
     "output_type": "execute_result"
    }
   ],
   "source": [
    "anos_conquistados[-1]"
   ]
  },
  {
   "cell_type": "code",
   "execution_count": 37,
   "metadata": {
    "id": "B7_WIZxOtbZs"
   },
   "outputs": [
    {
     "data": {
      "text/plain": [
       "'De volta para o futuro'"
      ]
     },
     "execution_count": 37,
     "metadata": {},
     "output_type": "execute_result"
    }
   ],
   "source": [
    "filme[-4]"
   ]
  },
  {
   "cell_type": "code",
   "execution_count": null,
   "metadata": {
    "id": "3RlLj7mWtgxj"
   },
   "outputs": [],
   "source": []
  },
  {
   "cell_type": "code",
   "execution_count": null,
   "metadata": {
    "id": "D_efbFohtm2E"
   },
   "outputs": [],
   "source": []
  },
  {
   "cell_type": "markdown",
   "metadata": {
    "id": "8VuDUOJOtyVo"
   },
   "source": [
    "Um erro comum é a utilização de índices inválidos. Esta ocorrência gera a mensagem de erro `list index out of range`."
   ]
  },
  {
   "cell_type": "code",
   "execution_count": null,
   "metadata": {
    "id": "o9Xi6krbt97C"
   },
   "outputs": [],
   "source": []
  },
  {
   "cell_type": "code",
   "execution_count": null,
   "metadata": {
    "id": "mK-CRslouBs7"
   },
   "outputs": [],
   "source": []
  },
  {
   "cell_type": "markdown",
   "metadata": {
    "id": "pvQqgtJtuFos"
   },
   "source": [
    "#**Comprimento de uma lista**\n",
    "\n",
    "O número de elementos (comprimento) de uma lista pode ser obtido pela função `len()`, abreviatura do termo em inglês *length*, que significa literalmente comprimento."
   ]
  },
  {
   "cell_type": "code",
   "execution_count": 41,
   "metadata": {
    "id": "UGmn28qvue2g"
   },
   "outputs": [
    {
     "name": "stdout",
     "output_type": "stream",
     "text": [
      "O Brasil foi campeão mundial de futebol 5 vezes\n",
      "A lista filme possui 4 elementos\n"
     ]
    }
   ],
   "source": [
    "print(f'O Brasil foi campeão mundial de futebol {len(anos_conquistados)} vezes')\n",
    "print(f'A lista filme possui {len(filme)} elementos')"
   ]
  },
  {
   "cell_type": "code",
   "execution_count": 5,
   "metadata": {},
   "outputs": [
    {
     "data": {
      "text/plain": [
       "['Ficção cientifica', 'aventura']"
      ]
     },
     "execution_count": 5,
     "metadata": {},
     "output_type": "execute_result"
    }
   ],
   "source": [
    "filme[len(filme)-1]"
   ]
  },
  {
   "cell_type": "code",
   "execution_count": 6,
   "metadata": {},
   "outputs": [
    {
     "data": {
      "text/plain": [
       "['Ficção cientifica', 'aventura']"
      ]
     },
     "execution_count": 6,
     "metadata": {},
     "output_type": "execute_result"
    }
   ],
   "source": [
    "filme[-1]"
   ]
  },
  {
   "cell_type": "markdown",
   "metadata": {
    "id": "TRVgWJ-Hu4jg"
   },
   "source": [
    "#**Modificando elementos de uma lista**\n",
    "\n",
    "Para modificar um elemento de uma lista, basta realizar um comando de atribuição.\n",
    "Por exemplo, se quisermos mudar o nome do filme \"De Volta Para o Futuro\" para a sua versão original em inglês, podemos usar:"
   ]
  },
  {
   "cell_type": "code",
   "execution_count": 46,
   "metadata": {
    "id": "NhDSitj2wKyB"
   },
   "outputs": [
    {
     "name": "stdout",
     "output_type": "stream",
     "text": [
      "['De volta para o futuro',\n",
      " 1985,\n",
      " 'Robert Zemeckis',\n",
      " ['Ficção cientifica', 'aventura']]\n",
      "['Back to the Future',\n",
      " 1985,\n",
      " 'Robert Zemeckis',\n",
      " ['Ficção cientifica', 'aventura']]\n"
     ]
    }
   ],
   "source": [
    "pprint(filme)\n",
    "filme[0] = 'Back to the Future'\n",
    "pprint(filme)"
   ]
  },
  {
   "cell_type": "markdown",
   "metadata": {
    "id": "bhuqhYoVwYiW"
   },
   "source": [
    "#**Adicionando elementos a uma lista**\n",
    "\n",
    "Para adicionar novos elementos ao final de uma lista existente, usamos o método `append()`. Por exemplo, podemos adicionar a companhia produtora e o elenco de \"De Volta Para o Futuro\" à lista `filme` usando:"
   ]
  },
  {
   "cell_type": "code",
   "execution_count": 47,
   "metadata": {
    "id": "zZi-SNSNxBuQ"
   },
   "outputs": [
    {
     "name": "stdout",
     "output_type": "stream",
     "text": [
      "['Back to the Future',\n",
      " 1985,\n",
      " 'Robert Zemeckis',\n",
      " ['Ficção cientifica', 'aventura'],\n",
      " 'Amblin Entertainment']\n"
     ]
    }
   ],
   "source": [
    "filme.append(\"Amblin Entertainment\")\n",
    "pprint(filme)"
   ]
  },
  {
   "cell_type": "code",
   "execution_count": 48,
   "metadata": {},
   "outputs": [
    {
     "name": "stdout",
     "output_type": "stream",
     "text": [
      "['Back to the Future',\n",
      " 1985,\n",
      " 'Robert Zemeckis',\n",
      " ['Ficção cientifica', 'aventura'],\n",
      " 'Amblin Entertainment',\n",
      " ['Michael J. Fox',\n",
      "  'Christopher Lloyd',\n",
      "  'Lea Thompson',\n",
      "  'Crispin Glover',\n",
      "  'Thomas F. Wilson']]\n"
     ]
    }
   ],
   "source": [
    "elenco = ['Michael J. Fox', 'Christopher Lloyd', 'Lea Thompson', 'Crispin Glover', 'Thomas F. Wilson']\n",
    "filme.append(elenco)\n",
    "pprint(filme)"
   ]
  },
  {
   "cell_type": "markdown",
   "metadata": {
    "id": "p3KbHts2xwn1"
   },
   "source": [
    "#**Referências *versus* clones**\n",
    "\n",
    "A atribuição de uma lista armazenada em uma variável `A` a uma segunda variável `B` não cria uma nova lista!\n",
    "\n",
    "Na verdade, as duas variáveis referenciam a mesma lista na memória. Isto significa que alterações na lista `A` afetam diretamente `B` e *vice-versa*."
   ]
  },
  {
   "cell_type": "code",
   "execution_count": 49,
   "metadata": {
    "id": "jyQETxG4yRee"
   },
   "outputs": [
    {
     "name": "stdout",
     "output_type": "stream",
     "text": [
      "['Bento Gonçalves', 'Canela', 'Gramado', 'Campos do jordão']\n"
     ]
    }
   ],
   "source": [
    "A = ['Bento Gonçalves', 'Canela', 'Gramado', \"Campos do jordão\"]\n",
    "print(A)\n"
   ]
  },
  {
   "cell_type": "code",
   "execution_count": 50,
   "metadata": {
    "id": "K39da0cDykDa"
   },
   "outputs": [
    {
     "name": "stdout",
     "output_type": "stream",
     "text": [
      "Lista B = ['Bento Gonçalves', 'Canela', 'Gramado', 'Campos do jordão', 'Ouro Preto']\n",
      "lista A = ['Bento Gonçalves', 'Canela', 'Gramado', 'Campos do jordão', 'Ouro Preto']\n"
     ]
    }
   ],
   "source": [
    "B = A\n",
    "B.append('Ouro Preto')\n",
    "print(f'Lista B = {B}')\n",
    "print(f'lista A = {A}')"
   ]
  },
  {
   "cell_type": "code",
   "execution_count": 51,
   "metadata": {
    "id": "YP1WuCw8y5Hr"
   },
   "outputs": [
    {
     "name": "stdout",
     "output_type": "stream",
     "text": [
      "\"Endereço\" da lista A na memória = 1583796094016\n",
      "\"Endereço\" da lista B na memória = 1583796094016\n"
     ]
    }
   ],
   "source": [
    "print(f'\"Endereço\" da lista A na memória = {id(A)}')\n",
    "print(f'\"Endereço\" da lista B na memória = {id(B)}')"
   ]
  },
  {
   "cell_type": "markdown",
   "metadata": {
    "id": "vTdOhM88yQ-p"
   },
   "source": [
    "Cada objeto em Python, incluindo listas, possui um identificador exclusivo (número inteiro único) que pode ser acessado usando a função `id()`. No exemplo acima, as listas `A` e `B` possuem o mesmo identificador, confirmando que elas correspondem à mesma lista na memória."
   ]
  },
  {
   "cell_type": "code",
   "execution_count": 52,
   "metadata": {
    "id": "ddFpqiAkzrEQ"
   },
   "outputs": [
    {
     "data": {
      "text/plain": [
       "True"
      ]
     },
     "execution_count": 52,
     "metadata": {},
     "output_type": "execute_result"
    }
   ],
   "source": [
    "id(A) == id(B)\n"
   ]
  },
  {
   "cell_type": "code",
   "execution_count": 56,
   "metadata": {
    "id": "k26GaA1HzvyH"
   },
   "outputs": [
    {
     "data": {
      "text/plain": [
       "False"
      ]
     },
     "execution_count": 56,
     "metadata": {},
     "output_type": "execute_result"
    }
   ],
   "source": [
    "A is B"
   ]
  },
  {
   "cell_type": "markdown",
   "metadata": {
    "id": "SHhbsYIJz5pU"
   },
   "source": [
    "Em algumas situações, no entanto, precisamos de fato criar uma réplica / clone na memória de uma lista pré-existente.\n",
    "\n",
    "Para isso podemos usar o comando `B = list(A)`. Note que nesse caso alterações posteriores em uma das listas não afetam a sua cópia."
   ]
  },
  {
   "cell_type": "code",
   "execution_count": 55,
   "metadata": {
    "id": "KEPSrAn90Eyo"
   },
   "outputs": [
    {
     "name": "stdout",
     "output_type": "stream",
     "text": [
      "['Bento Gonçalves', 'Canela', 'Gramado', 'Campos do jordão']\n",
      "['Bento Gonçalves', 'Canela', 'Gramado', 'Campos do jordão', 'Ouro Preto']\n"
     ]
    }
   ],
   "source": [
    "A = ['Bento Gonçalves', 'Canela', 'Gramado', \"Campos do jordão\"]\n",
    "B = list(A)\n",
    "B.append(\"Ouro Preto\")\n",
    "print(A)\n",
    "print(B)"
   ]
  },
  {
   "cell_type": "code",
   "execution_count": 57,
   "metadata": {
    "id": "5ewvzGjp0TL5"
   },
   "outputs": [
    {
     "data": {
      "text/plain": [
       "False"
      ]
     },
     "execution_count": 57,
     "metadata": {},
     "output_type": "execute_result"
    }
   ],
   "source": [
    "id(A) == id (B)"
   ]
  },
  {
   "cell_type": "code",
   "execution_count": 58,
   "metadata": {
    "id": "11JD2-_n0aBP"
   },
   "outputs": [
    {
     "data": {
      "text/plain": [
       "False"
      ]
     },
     "execution_count": 58,
     "metadata": {},
     "output_type": "execute_result"
    }
   ],
   "source": [
    "A is B"
   ]
  },
  {
   "cell_type": "code",
   "execution_count": null,
   "metadata": {
    "id": "X9DPcZjM0fYR"
   },
   "outputs": [],
   "source": []
  },
  {
   "cell_type": "code",
   "execution_count": null,
   "metadata": {
    "id": "fHeUaCu30ju3"
   },
   "outputs": [],
   "source": []
  },
  {
   "cell_type": "markdown",
   "metadata": {
    "id": "slC8g5UV0lQH"
   },
   "source": [
    "#**Concatenação de listas usando +**\n",
    "\n",
    "No Python, é possível gerar uma nova lista a partir da concatenação de duas listas existentes usando o operador de adição `+`.\n",
    "\n",
    "*IMPORTANTE:* As listas originais são preservadas e uma nova lista é criada com um total de elementos igual a soma dos comprimentos das duas primeiras."
   ]
  },
  {
   "cell_type": "code",
   "execution_count": 59,
   "metadata": {
    "id": "jw6G2T6b08XA"
   },
   "outputs": [
    {
     "name": "stdout",
     "output_type": "stream",
     "text": [
      "Lista A = ['Bento Gonçalves', 'Canela', 'Gramado', 'Campos do jordão']\n",
      "Lista B = ['Ouro Preto', 'Fortaleza', 'Maceió', 'Rio de Janeiro']\n",
      "Lista C = ['Bento Gonçalves', 'Canela', 'Gramado', 'Campos do jordão', 'Ouro Preto', 'Fortaleza', 'Maceió', 'Rio de Janeiro']\n"
     ]
    }
   ],
   "source": [
    "A = ['Bento Gonçalves', 'Canela', 'Gramado', \"Campos do jordão\"]\n",
    "B = ['Ouro Preto', 'Fortaleza', 'Maceió', 'Rio de Janeiro']\n",
    "C = A+B\n",
    "print(f'Lista A = {A}')\n",
    "print(f'Lista B = {B}')\n",
    "print(f'Lista C = {C}')"
   ]
  },
  {
   "cell_type": "code",
   "execution_count": 61,
   "metadata": {
    "id": "85kBifQF2Hnp"
   },
   "outputs": [
    {
     "data": {
      "text/plain": [
       "True"
      ]
     },
     "execution_count": 61,
     "metadata": {},
     "output_type": "execute_result"
    }
   ],
   "source": [
    "len(C) == len(A) + len(B)"
   ]
  },
  {
   "cell_type": "markdown",
   "metadata": {
    "id": "K4VY8fqZ2L6_"
   },
   "source": [
    "*CUIDADO:* Note que a concatenação não possui propriedade comutativa, pois a ordem dos elementos na lista de saída depende da ordem dos operandos."
   ]
  },
  {
   "cell_type": "code",
   "execution_count": null,
   "metadata": {
    "id": "G7RMkhr33Xl4"
   },
   "outputs": [],
   "source": []
  },
  {
   "cell_type": "code",
   "execution_count": null,
   "metadata": {
    "id": "V5JfsZR13gdG"
   },
   "outputs": [],
   "source": []
  },
  {
   "cell_type": "markdown",
   "metadata": {
    "id": "2CvAEqag2Qjw"
   },
   "source": [
    "Se as duas listas `A` e `B` possuem elementos em comum, após a concatenação estes serão repetidos na lista produzida."
   ]
  },
  {
   "cell_type": "code",
   "execution_count": 63,
   "metadata": {
    "id": "-ZQsX74B35HC"
   },
   "outputs": [
    {
     "name": "stdout",
     "output_type": "stream",
     "text": [
      "[2, 3, 5, 7, 11, 1, 3, 5, 7, 9]\n"
     ]
    }
   ],
   "source": [
    "#Cinco primeiros números ímpares\n",
    "impares = [1,3,5,7,9]\n",
    "#Cinco primeiros números primos\n",
    "primos = [2,3,5,7,11]\n",
    "\n",
    "uniao = primos + impares\n",
    "print(uniao)"
   ]
  },
  {
   "cell_type": "markdown",
   "metadata": {
    "id": "C1fX-ICe4L5d"
   },
   "source": [
    "#**Método `append` *versus* concatenação de listas**\n",
    "\n",
    "Os três trechos de código a seguir produzem o mesmo efeito:"
   ]
  },
  {
   "cell_type": "code",
   "execution_count": 64,
   "metadata": {
    "id": "GWCzF48-4Ymf"
   },
   "outputs": [
    {
     "name": "stdout",
     "output_type": "stream",
     "text": [
      "['Baunilha', 'Chocolate', 'Morango', 'flocos']\n"
     ]
    }
   ],
   "source": [
    "sabores = ['Baunilha', 'Chocolate', 'Morango']\n",
    "sabores = sabores + ['flocos']\n",
    "print(sabores)"
   ]
  },
  {
   "cell_type": "code",
   "execution_count": 65,
   "metadata": {
    "id": "_HZMPoS_4iYq"
   },
   "outputs": [
    {
     "name": "stdout",
     "output_type": "stream",
     "text": [
      "['Baunilha', 'Chocolate', 'Morango', 'flocos']\n"
     ]
    }
   ],
   "source": [
    "sabores = ['Baunilha', 'Chocolate', 'Morango']\n",
    "sabores += ['flocos']\n",
    "print(sabores)"
   ]
  },
  {
   "cell_type": "code",
   "execution_count": 66,
   "metadata": {
    "id": "scKbX15M4s3p"
   },
   "outputs": [
    {
     "name": "stdout",
     "output_type": "stream",
     "text": [
      "['Baunilha', 'Chocolate', 'Morango', 'Flocos']\n"
     ]
    }
   ],
   "source": [
    "sabores = ['Baunilha', 'Chocolate', 'Morango']\n",
    "sabores.append ('Flocos')\n",
    "print(sabores)"
   ]
  },
  {
   "cell_type": "markdown",
   "metadata": {
    "id": "r8vK7prX45zm"
   },
   "source": [
    "*NOTA:* Apesar dos códigos anteriores produzirem o mesmo resultado, é preferível utilizar o método `append()`. De fato, a concatenação gera uma cópia da lista toda e a variável `sabores` passa a referenciar essa nova lista criada. Em outras palavras, a concatenação é uma operação mais custosa."
   ]
  },
  {
   "cell_type": "markdown",
   "metadata": {
    "id": "kklXNina5pYT"
   },
   "source": [
    "#**Repetição de listas usando `*`**\n",
    "\n",
    "Em Python podemos multiplicar uma lista por um número inteiro. O efeito é a criação de uma nova lista contendo a repetição dos elementos da lista original."
   ]
  },
  {
   "cell_type": "code",
   "execution_count": 67,
   "metadata": {
    "id": "0Gg5VrXJ5oSa"
   },
   "outputs": [
    {
     "data": {
      "text/plain": [
       "['Sai dorival!!!', 'Sai dorival!!!', 'Sai dorival!!!', 'Sai dorival!!!']"
      ]
     },
     "execution_count": 67,
     "metadata": {},
     "output_type": "execute_result"
    }
   ],
   "source": [
    "msg = ['Sai dorival!!!']\n",
    "4*msg"
   ]
  },
  {
   "cell_type": "markdown",
   "metadata": {
    "id": "dCGQ_L5B6jl7"
   },
   "source": [
    "#**Fatias de listas**\n",
    "\n",
    "Podemos criar uma sublista formada por uma cópia de um trecho de elementos consecutivos de uma lista original através do recurso de fatiamento de listas. Para isso, usamos a seguinte sintaxe: `nome_da_lista[inicio:fim]`.\n",
    "\n",
    "Caso omitido, o parâmetro `inicio` é assumido como sendo `0`; quando `fim` é omitido, é assumido como sendo `len(lista)`.\n",
    "\n",
    "Alem disso, `inicio` indica o índice do primeiro elemento que será incluído no trecho copiado, mas o último elemento incluído no trecho é aquele dado pelo índice `fim-1`. Ou seja, o elemento cujo índice é `fim` nunca é incluído no trecho copiado."
   ]
  },
  {
   "cell_type": "code",
   "execution_count": 9,
   "metadata": {
    "id": "bxjq2ddh45Iy"
   },
   "outputs": [
    {
     "data": {
      "text/plain": [
       "['Gramado', 'Ouro Preto', 'Fortaleza', 'Maceió']"
      ]
     },
     "execution_count": 9,
     "metadata": {},
     "output_type": "execute_result"
    }
   ],
   "source": [
    "cidades = ['Bento Gonçalves', 'Campos do jordão', 'Gramado', 'Ouro Preto', 'Fortaleza', 'Maceió', 'Rio de Janeiro']\n",
    "\n",
    "cidades [2:6]\n",
    "\n"
   ]
  },
  {
   "cell_type": "code",
   "execution_count": 16,
   "metadata": {
    "id": "4gQqNeVF8v-7"
   },
   "outputs": [
    {
     "data": {
      "text/plain": [
       "['Gramado', 'Ouro Preto', 'Fortaleza', 'Maceió']"
      ]
     },
     "execution_count": 16,
     "metadata": {},
     "output_type": "execute_result"
    }
   ],
   "source": [
    "cidades[2:6]"
   ]
  },
  {
   "cell_type": "code",
   "execution_count": 17,
   "metadata": {
    "id": "6Gi-c5QM9NR_"
   },
   "outputs": [
    {
     "data": {
      "text/plain": [
       "['Campos do jordão', 'Gramado']"
      ]
     },
     "execution_count": 17,
     "metadata": {},
     "output_type": "execute_result"
    }
   ],
   "source": [
    "cidades[1:3]"
   ]
  },
  {
   "cell_type": "code",
   "execution_count": 81,
   "metadata": {
    "id": "QyU9OxO89SVL"
   },
   "outputs": [
    {
     "data": {
      "text/plain": [
       "['Bento Gonçalves', 'Campos do jordão', 'Gramado', 'Ouro Preto']"
      ]
     },
     "execution_count": 81,
     "metadata": {},
     "output_type": "execute_result"
    }
   ],
   "source": [
    "cidades[:4]"
   ]
  },
  {
   "cell_type": "code",
   "execution_count": 82,
   "metadata": {
    "id": "xHH6wKGG9UoZ"
   },
   "outputs": [
    {
     "data": {
      "text/plain": [
       "['Ouro Preto', 'Fortaleza', 'Maceió', 'Rio de Janeiro']"
      ]
     },
     "execution_count": 82,
     "metadata": {},
     "output_type": "execute_result"
    }
   ],
   "source": [
    "cidades[3:]"
   ]
  },
  {
   "cell_type": "markdown",
   "metadata": {
    "id": "Mt3k0uFV9bUG"
   },
   "source": [
    "Em especial, o comando `lista[:]` (ou `lista[0:len(lista)]`) gera uma cópia da lista toda, podendo ser usado em operações de clonagem de uma lista, substituindo o comando `list(lista)`."
   ]
  },
  {
   "cell_type": "code",
   "execution_count": 83,
   "metadata": {
    "id": "tONJi6Y79nZq"
   },
   "outputs": [
    {
     "data": {
      "text/plain": [
       "False"
      ]
     },
     "execution_count": 83,
     "metadata": {},
     "output_type": "execute_result"
    }
   ],
   "source": [
    "cidades = ['Bento Gonçalves', 'Campos do Jordão', 'Gramado']\n",
    "B = cidades[:]\n",
    "id(cidades) == id(B)"
   ]
  },
  {
   "cell_type": "code",
   "execution_count": null,
   "metadata": {
    "id": "QEq4VBgC9zey"
   },
   "outputs": [],
   "source": []
  },
  {
   "cell_type": "markdown",
   "metadata": {
    "id": "q2jBEk8t-F2T"
   },
   "source": [
    "#**Remoção em listas**\n",
    "\n",
    "As remoções de elementos em listas podem ser feitas usando o comando `del` ou o método `pop`.\n",
    "A sintaxe do comadno `del` é `del lista[indice]`."
   ]
  },
  {
   "cell_type": "code",
   "execution_count": 87,
   "metadata": {
    "id": "nrnGqhQw-XjV"
   },
   "outputs": [
    {
     "name": "stdout",
     "output_type": "stream",
     "text": [
      "['Campos do Jordão', 'Gramado', 'Ouro Preto']\n"
     ]
    }
   ],
   "source": [
    "cidades = ['Bento Gonçalves', 'Campos do Jordão', 'Gramado', 'Ouro Preto']\n",
    "del cidades [0]\n",
    "print(cidades)\n"
   ]
  },
  {
   "cell_type": "markdown",
   "metadata": {
    "id": "5sUfH1Yg-nte"
   },
   "source": [
    "A sintaxe do método `pop` é `lista.pop(indice)`.\n",
    "A diferença com relação a `del` é que `pop` devolve o valor removido da lista, que pode, por exemplo, ser atribuído a uma variável. Caso `indice` seja omitido, o último elemento é removido."
   ]
  },
  {
   "cell_type": "code",
   "execution_count": 89,
   "metadata": {
    "id": "LbKDeuv9-60K"
   },
   "outputs": [
    {
     "name": "stdout",
     "output_type": "stream",
     "text": [
      "['Campos do Jordão', 'Gramado', 'Ouro Preto']\n",
      "Bento Gonçalves\n"
     ]
    }
   ],
   "source": [
    "cidades = ['Bento Gonçalves', 'Campos do Jordão', 'Gramado', 'Ouro Preto']\n",
    "c = cidades.pop(0)\n",
    "print(cidades)\n",
    "print(c)"
   ]
  },
  {
   "cell_type": "code",
   "execution_count": 90,
   "metadata": {
    "id": "R-1GxNBo_NGT"
   },
   "outputs": [
    {
     "name": "stdout",
     "output_type": "stream",
     "text": [
      "['Campos do Jordão', 'Gramado']\n",
      "Ouro Preto\n"
     ]
    }
   ],
   "source": [
    "c = cidades.pop()\n",
    "print(cidades)\n",
    "print(c)"
   ]
  },
  {
   "cell_type": "code",
   "execution_count": 93,
   "metadata": {},
   "outputs": [
    {
     "name": "stdout",
     "output_type": "stream",
     "text": [
      "Média das notas = 7.1, usando sum() e len()\n",
      "Nota Máxima = 10\n",
      "Nota mínima = 4\n"
     ]
    }
   ],
   "source": [
    "notas = [4, 4.5, 7, 10, 9.5, 10, 8, 4]\n",
    "media = sum(notas) / len(notas)\n",
    "print(f'Média das notas = {media:.1f}, usando sum() e len()')\n",
    "print(f'Nota Máxima = {max(notas)}')\n",
    "print(f'Nota mínima = {min(notas)}')"
   ]
  },
  {
   "cell_type": "code",
   "execution_count": 106,
   "metadata": {},
   "outputs": [
    {
     "name": "stdout",
     "output_type": "stream",
     "text": [
      "Média das notas = 7.1, usando sum() e len()\n",
      "Nota Máxima = 10.0\n",
      "Nota mínima = 4.0\n"
     ]
    }
   ],
   "source": [
    "import numpy as np\n",
    "\n",
    "notas = np.array([4, 4.5, 7, 10, 9.5, 10, 8, 4])\n",
    "print(f'Média das notas = {notas.mean():.1f}, usando sum() e len()')\n",
    "print(f'Nota Máxima = {notas.max()}')\n",
    "print(f'Nota mínima = {notas.min()}')"
   ]
  }
 ],
 "metadata": {
  "colab": {
   "provenance": []
  },
  "kernelspec": {
   "display_name": "Python 3",
   "name": "python3"
  },
  "language_info": {
   "codemirror_mode": {
    "name": "ipython",
    "version": 3
   },
   "file_extension": ".py",
   "mimetype": "text/x-python",
   "name": "python",
   "nbconvert_exporter": "python",
   "pygments_lexer": "ipython3",
   "version": "3.13.1"
  }
 },
 "nbformat": 4,
 "nbformat_minor": 0
}
